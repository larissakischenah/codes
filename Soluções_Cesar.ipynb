{
  "nbformat": 4,
  "nbformat_minor": 0,
  "metadata": {
    "colab": {
      "name": "Soluções Cesar.ipynb",
      "provenance": [],
      "collapsed_sections": []
    },
    "kernelspec": {
      "name": "python3",
      "display_name": "Python 3"
    }
  },
  "cells": [
    {
      "cell_type": "markdown",
      "metadata": {
        "id": "hdeMl8MXxYky",
        "colab_type": "text"
      },
      "source": [
        "**1. Substituindo caracteres no local:**\n",
        "\n",
        "Example:\n",
        "\n",
        "Input: “User is not allowed “, 19\n",
        "\n",
        "Output: “User&32is&32not&32allowed”"
      ]
    },
    {
      "cell_type": "code",
      "metadata": {
        "id": "SkJuO3QWwBUW",
        "colab_type": "code",
        "colab": {
          "base_uri": "https://localhost:8080/",
          "height": 35
        },
        "outputId": "2326d512-cd8a-4799-d7f3-200179be5805"
      },
      "source": [
        "s='User is not allowed' \n",
        "s.replace(\" \", \"&32\")"
      ],
      "execution_count": null,
      "outputs": [
        {
          "output_type": "execute_result",
          "data": {
            "application/vnd.google.colaboratory.intrinsic+json": {
              "type": "string"
            },
            "text/plain": [
              "'User&32is&32not&32allowed'"
            ]
          },
          "metadata": {
            "tags": []
          },
          "execution_count": 2
        }
      ]
    },
    {
      "cell_type": "markdown",
      "metadata": {
        "id": "bDo_rUb2xUbr",
        "colab_type": "text"
      },
      "source": [
        "**2. Verifique as palavras com letras desordenadas:**\n",
        "Considere permutação parcial apenas se:\n",
        "- A primeira letra não mudou de lugar\n",
        "- Se a palavra tiver mais de 3 letras, até 2/3 das letras mudaram de lugar"
      ]
    },
    {
      "cell_type": "markdown",
      "metadata": {
        "id": "pwyZOxIlDQYj",
        "colab_type": "text"
      },
      "source": [
        "2A - Checando se ambas palavras iniciam com mesma letra:"
      ]
    },
    {
      "cell_type": "code",
      "metadata": {
        "id": "knqrlAySDckZ",
        "colab_type": "code",
        "colab": {
          "base_uri": "https://localhost:8080/",
          "height": 70
        },
        "outputId": "5e168971-d743-4557-c41b-f67889753d23"
      },
      "source": [
        "def check_inicial (str1, str2):#Mesma inicial\n",
        "  if (str1[0] == str2[0]):\n",
        "    return True\n",
        "\n",
        "str1='probably'\n",
        "str2='porbalby'\n",
        "str1=str1.upper()\n",
        "str2=str2.upper()\n",
        "print(f'******Checando se {str2} possui mesma inicial de {str1}:********')\n",
        "print('---------------------------')\n",
        "iniciais = check_inicial(str1,str2)\n",
        "\n",
        "if iniciais==True: \n",
        "  print('Ambas palavras iniciam com a mesma letra - OK')\n",
        "else:\n",
        "    print('Palavras não iniciam com a mesma letra - Não OK')\n"
      ],
      "execution_count": null,
      "outputs": [
        {
          "output_type": "stream",
          "text": [
            "******Checando se PORBALBY possui mesma inicial de PROBABLY:********\n",
            "---------------------------\n",
            "Ambas palavras iniciam com a mesma letra - OK\n"
          ],
          "name": "stdout"
        }
      ]
    },
    {
      "cell_type": "markdown",
      "metadata": {
        "id": "iYzyAy2nDq03",
        "colab_type": "text"
      },
      "source": [
        "2B. Checando se as palavras possuem mesmo tamanho: "
      ]
    },
    {
      "cell_type": "code",
      "metadata": {
        "id": "wUeqpYexDyb9",
        "colab_type": "code",
        "colab": {
          "base_uri": "https://localhost:8080/",
          "height": 70
        },
        "outputId": "7366dec9-1342-4480-822d-1b50f9a05151"
      },
      "source": [
        "def check_tam(str1, str2):\n",
        "  if (len(str1) == len(str2)):#Tam iguais\n",
        "      return True\n",
        "str1='probably'\n",
        "str2='porbalby'\n",
        "str1=str1.upper()\n",
        "str2=str2.upper()\n",
        "print(f'******Checando se {str2} é de mesmo tamanho de {str1}:********')\n",
        "print('---------------------------')\n",
        "\n",
        "tamanho = check_tam(str1, str2)\n",
        "\n",
        "if tamanho==True: \n",
        "  print('Palavras possuem mesmo tamanho - OK')\n",
        "else:\n",
        "  print('As Palavras não são do mesmo tamanho - Não OK')"
      ],
      "execution_count": null,
      "outputs": [
        {
          "output_type": "stream",
          "text": [
            "******Checando se PORBALBY é de mesmo tamanho de PROBABLY:********\n",
            "---------------------------\n",
            "Palavras possuem mesmo tamanho - OK\n"
          ],
          "name": "stdout"
        }
      ]
    },
    {
      "cell_type": "markdown",
      "metadata": {
        "id": "jNCG4FosECu4",
        "colab_type": "text"
      },
      "source": [
        "2C. Se as letras de uma palavra coincidem na outra:"
      ]
    },
    {
      "cell_type": "code",
      "metadata": {
        "id": "vhPyu-2zEJwM",
        "colab_type": "code",
        "colab": {
          "base_uri": "https://localhost:8080/",
          "height": 70
        },
        "outputId": "282cfaf5-7d74-4c67-a2a8-863c565a8e36"
      },
      "source": [
        "def check_coincide(str1,str2):#Letras coincidem\n",
        "    for letter in str2:\n",
        "      if letter in str1:\n",
        "        return True\n",
        "\n",
        "str1='probably'\n",
        "str2='porbalby'\n",
        "str1=str1.upper()\n",
        "str2=str2.upper()\n",
        "print(f'******Checando se as letras de {str2} coincidem em {str1}:********')\n",
        "print('---------------------------')\n",
        "\n",
        "coincide = check_coincide(str1, str2)\n",
        "\n",
        "if coincide==True:\n",
        "  print(f'As letras de {str2} aparecem em {str1}- OK')\n",
        "else: \n",
        "  print(f'Nem todas as letras de {str2} aparecem em {str1}- Não OK')"
      ],
      "execution_count": null,
      "outputs": [
        {
          "output_type": "stream",
          "text": [
            "******Checando se as letras de PORBALBY coincidem em PROBABLY:********\n",
            "---------------------------\n",
            "As letras de PORBALBY aparecem em PROBABLY- OK\n"
          ],
          "name": "stdout"
        }
      ]
    },
    {
      "cell_type": "markdown",
      "metadata": {
        "id": "kfZR8JmkE4Ya",
        "colab_type": "text"
      },
      "source": [
        "2D. Checando se a palavra chave é formada somente de letras:"
      ]
    },
    {
      "cell_type": "code",
      "metadata": {
        "id": "OYJrtlMOE9Ws",
        "colab_type": "code",
        "colab": {
          "base_uri": "https://localhost:8080/",
          "height": 70
        },
        "outputId": "b932be9b-e8dd-4efe-f5ae-97c981a47355"
      },
      "source": [
        "str1='probably'\n",
        "str2='porbalby'\n",
        "str1=str1.upper()\n",
        "str2=str2.upper()\n",
        "print(f'******Checando se {str2} é formado por letras somente:********')\n",
        "print('---------------------------')\n",
        "#Saber se só tem letras      \n",
        "if (str2.isalpha()):\n",
        "  print(f'A palavra : {str2} é formada somente por letras')\n",
        "else:\n",
        "  print(f'A palavra : {str2} não possui somente letras')  "
      ],
      "execution_count": null,
      "outputs": [
        {
          "output_type": "stream",
          "text": [
            "******Checando se PORBALBY é formado por letras somente:********\n",
            "---------------------------\n",
            "A palavra : PORBALBY é formada somente por letras\n"
          ],
          "name": "stdout"
        }
      ]
    },
    {
      "cell_type": "markdown",
      "metadata": {
        "id": "OomHJoG9TYwX",
        "colab_type": "text"
      },
      "source": [
        "2E. Checando a similaridade entre as palavras com difflib"
      ]
    },
    {
      "cell_type": "code",
      "metadata": {
        "id": "DgaWaA1q1dDx",
        "colab_type": "code",
        "colab": {
          "base_uri": "https://localhost:8080/",
          "height": 34
        },
        "outputId": "8631f2bd-4690-4f2f-e01c-8730fe16bfd2"
      },
      "source": [
        "import difflib\n",
        "str1='pale'\n",
        "str2='ple'\n",
        "s = difflib.SequenceMatcher(None, str1, str2)#passando as strings para o diffilib\n",
        "s.find_longest_match(0,len(str1),0,len(str2))#retornando a quantidade de caracteres semelhantes\n",
        "print('A similaridade entre as palavras é de: ',round(difflib.SequenceMatcher(None, str1, str2).ratio(),2),'%')#retornando o índice de similaridade"
      ],
      "execution_count": null,
      "outputs": [
        {
          "output_type": "stream",
          "text": [
            "A similaridade entre as palavras é de:  0.86 %\n"
          ],
          "name": "stdout"
        }
      ]
    },
    {
      "cell_type": "markdown",
      "metadata": {
        "id": "f_ykeq6vHbf0",
        "colab_type": "text"
      },
      "source": [
        "2F. Checando se a chave informada é um anagrama da 1ª palavra:"
      ]
    },
    {
      "cell_type": "code",
      "metadata": {
        "id": "zcc5lsr7IFt2",
        "colab_type": "code",
        "colab": {
          "base_uri": "https://localhost:8080/",
          "height": 70
        },
        "outputId": "e13af217-658a-4e1d-8989-b080104635f0"
      },
      "source": [
        "def anagramas(str1):\n",
        "  if len(str1)<=1:\n",
        "    return str1\n",
        "  else:\n",
        "    tmp=[]\n",
        "    for aux in anagramas(str1[1:]):\n",
        "            for i in range(len(str1)):\n",
        "                tmp.append(aux[:i] + str1[0:1] + aux[i:])\n",
        "    return tmp\n",
        "\n",
        "str1='probably'\n",
        "str2='porbalby'\n",
        "str1=str1.upper()\n",
        "str2=str2.upper()\n",
        "print(f'******Checando se {str2} é um anagrama de {str1}:********')\n",
        "print('---------------------------')\n",
        "lista = anagramas(str1)\n",
        "if(str2 in lista): #busca a incidência na lista de anagramas\n",
        "  print(f'{str2} é um anagrama de {str1}')\n",
        "else:\n",
        "  print(f'{str2} não é um anagrama de {str1}')"
      ],
      "execution_count": null,
      "outputs": [
        {
          "output_type": "stream",
          "text": [
            "******Checando se PORBALBY é um anagrama de PROBABLY:********\n",
            "---------------------------\n",
            "PORBALBY é um anagrama de PROBABLY\n"
          ],
          "name": "stdout"
        }
      ]
    },
    {
      "cell_type": "markdown",
      "metadata": {
        "id": "GVYugNZyzvIy",
        "colab_type": "text"
      },
      "source": [
        "**3. Verifique palavras com erros de digitação:** \n",
        "\n",
        "Dadas duas strings, escreva uma função para verificar se elas estão com um erro de digitação (ou com zero erros).\n",
        "\n",
        "Exemplos:\n",
        "\n",
        "pale, ple ¬> true\n"
      ]
    },
    {
      "cell_type": "code",
      "metadata": {
        "id": "463mijUVWFkn",
        "colab_type": "code",
        "colab": {
          "base_uri": "https://localhost:8080/",
          "height": 34
        },
        "outputId": "44bb785b-2725-4473-dab4-27aea5fabbb1"
      },
      "source": [
        "from difflib import SequenceMatcher\n",
        "def similar (str2, str1):\n",
        "  return SequenceMatcher(None, str2, str1).ratio() \n",
        "str1='pale'\n",
        "str2='ple'\n",
        "str1=str1.upper()\n",
        "str2=str2.upper()\n",
        "a=similar (str2, str1)\n",
        "arred=round(a,2)\n",
        "if (arred==1.0):\n",
        "  print(f'{str2} é igual à chave {str1}')\n",
        "elif (arred<1.0):\n",
        "  print(f'{str2} têm de chance de ser um erro de digitação')"
      ],
      "execution_count": null,
      "outputs": [
        {
          "output_type": "stream",
          "text": [
            "PLE têm de chance de ser um erro de digitação\n"
          ],
          "name": "stdout"
        }
      ]
    }
  ]
}