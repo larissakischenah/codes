{
  "nbformat": 4,
  "nbformat_minor": 0,
  "metadata": {
    "colab": {
      "name": "analise_alg_ex01_anagramas",
      "provenance": []
    },
    "kernelspec": {
      "name": "python3",
      "display_name": "Python 3"
    }
  },
  "cells": [
    {
      "cell_type": "markdown",
      "metadata": {
        "id": "1XoETQAvWoDe",
        "colab_type": "text"
      },
      "source": [
        "Como vimos na Introdução à análise, existem diversas forma de solução.\n",
        "\n",
        "Um exemplo de algoritimos que são usados como soluções para se encontrar percentuais relativos à similaridade.\n",
        "\n",
        "Existem duas formas de ser feito:\n",
        "\n",
        "1 Construindo funções e com uso de expressões para comparações\n",
        "\n",
        "2 Usando recursos pré-definidos, considera-se que acima de 60% do resultado há ocorrência.\n",
        "\n",
        "# Qual seria o mais complexo?\n",
        "\n",
        "# Porquê?"
      ]
    },
    {
      "cell_type": "code",
      "metadata": {
        "id": "CvM2BSCqX6_-",
        "colab_type": "code",
        "colab": {}
      },
      "source": [
        "# 1 ª Solução, com uso de função e expressões de comparação\n",
        "def anagramas(str1):\n",
        "  if len(str1)<=1:\n",
        "    return str1\n",
        "  else:\n",
        "    tmp=[]\n",
        "    for aux in anagramas(str1[1:]):\n",
        "            for i in range(len(str1)):\n",
        "                tmp.append(aux[:i] + str1[0:1] + aux[i:])\n",
        "    return tmp\n",
        "\n",
        "str1='probably'\n",
        "str2='porbalby'\n",
        "str1=str1.upper()\n",
        "str2=str2.upper()\n",
        "print(f'******Checando se {str2} é um anagrama de {str1}:********')\n",
        "print('---------------------------')\n",
        "lista = anagramas(str1)\n",
        "if(str2 in lista): #busca a incidência na lista de anagramas\n",
        "  print(f'{str2} é um anagrama de {str1}')\n",
        "else:\n",
        "  print(f'{str2} não é um anagrama de {str1}')"
      ],
      "execution_count": null,
      "outputs": []
    },
    {
      "cell_type": "code",
      "metadata": {
        "id": "C1kx13dHYYy6",
        "colab_type": "code",
        "colab": {}
      },
      "source": [
        "#com uso do de recursos\n",
        "def similar (str2, str1):\n",
        "  return SequenceMatcher(None, str2, str1).ratio() \n",
        "str1='pale'\n",
        "str2='ple'\n",
        "str1=str1.upper()\n",
        "str2=str2.upper()\n",
        "a=similar (str2, str1)\n",
        "arred=round(a,2)\n",
        "if (arred==1.0):\n",
        "  print(f'{str2} é igual à chave {str1}')\n",
        "elif (arred<1.0):\n",
        "  print(f'{str2} têm de chance de ser um erro de digitação')"
      ],
      "execution_count": null,
      "outputs": []
    }
  ]
}